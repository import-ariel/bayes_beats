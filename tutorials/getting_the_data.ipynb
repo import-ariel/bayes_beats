{
 "cells": [
  {
   "metadata": {},
   "cell_type": "markdown",
   "source": [
    "#### Some background reading and source for our data: \n",
    "https://towardsdatascience.com/how-i-built-a-lo-fi-music-web-player-with-ai-generated-tracks-36f3915e39f8/\n",
    "\"We have a couple of options when it comes to the music data format we are training the model on: raw audio, audio features (e.g. time frequency representations like Mel spectrogram), or symbolic music representation (e.g. midi files). Our goal is to generate a solo track (i.e. a sequence of notes, chords, and rests) to layer on other components like drum loops, so midi files are the easiest and most effective format to achieve our goal. Raw audio is very computationally expensive to train on.\"\n",
    "\n",
    "##### data source: https://www.kaggle.com/datasets/zakarii/lofi-hip-hop-midi/data"
   ],
   "id": "64d87e1e51fa804f"
  },
  {
   "metadata": {
    "ExecuteTime": {
     "end_time": "2025-05-07T01:46:44.481927Z",
     "start_time": "2025-05-07T01:46:43.532617Z"
    }
   },
   "cell_type": "code",
   "source": [
    "# I've created a DataCleaning class to handle the data loading and cleaning process.\n",
    "# You can call on this class to load the data and clean it up as needed.\n",
    "# for example: \n",
    "\n",
    "import kagglehub\n",
    "from data.data_cleaning import DataCleaning, logger\n",
    "\n",
    "# 1) Download the dataset and grab the local folder path\n",
    "path = kagglehub.dataset_download(\"zakarii/lofi-hip-hop-midi\")\n",
    "logger.info(f\"Dataset lives at: {path}\")\n",
    "\n",
    "# 2) Point the DataCleaning class at that folder (no __main__ needed)\n",
    "cleaner = DataCleaning(midi_dir=path)\n",
    "\n",
    "# 3) Run it, capturing the in-memory objects\n",
    "encoded_seqs, sym2int, dur2int = cleaner.run(save=True)"
   ],
   "id": "b7ba019d6d48f2d0",
   "outputs": [
    {
     "name": "stderr",
     "output_type": "stream",
     "text": [
      "/Users/arielazria/Library/CloudStorage/OneDrive-TheUniversityofChicago/School/Bayesian - Spring 2025/bayesian_env/lib/python3.12/site-packages/tqdm/auto.py:21: TqdmWarning: IProgress not found. Please update jupyter and ipywidgets. See https://ipywidgets.readthedocs.io/en/stable/user_install.html\n",
      "  from .autonotebook import tqdm as notebook_tqdm\n",
      "INFO:data.data_cleaning:Dataset lives at: /Users/arielazria/.cache/kagglehub/datasets/zakarii/lofi-hip-hop-midi/versions/1\n",
      "INFO:data.data_cleaning:Found 93 MIDI files in /Users/arielazria/.cache/kagglehub/datasets/zakarii/lofi-hip-hop-midi/versions/1.\n",
      "Parsing MIDI files: 100%|██████████| 93/93 [00:00<00:00, 497.36it/s]\n",
      "INFO:data.data_cleaning:Parsed 93 sequences from MIDI files.\n",
      "INFO:data.data_cleaning:Built symbol vocab (258) and duration vocab (34).\n",
      "INFO:data.data_cleaning:Encoded 93 sequences.\n",
      "INFO:data.data_cleaning:Saved encoded sequences to: processed_lofi_data/encoded_sequences.json\n",
      "INFO:data.data_cleaning:Saved symbol vocabulary to: processed_lofi_data/symbol_to_int.json\n",
      "INFO:data.data_cleaning:Saved duration vocabulary to: processed_lofi_data/duration_to_int.json\n"
     ]
    }
   ],
   "execution_count": 1
  },
  {
   "metadata": {},
   "cell_type": "code",
   "source": [
    "# now you can use those in modeling. \n",
    "# save=False won't save the files locally"
   ],
   "id": "6f071ec08751df64",
   "outputs": [],
   "execution_count": null
  },
  {
   "metadata": {
    "ExecuteTime": {
     "end_time": "2025-05-13T00:54:04.703017Z",
     "start_time": "2025-05-13T00:54:04.619338Z"
    }
   },
   "cell_type": "code",
   "source": [
    "import os\n",
    "from huggingface_hub import snapshot_download\n",
    "\n",
    "# 1) (Optional) set env vars so *all* HF artifacts go under your OneDrive folder:\n",
    "BASE = \"'/Users/arielazria/Library/CloudStorage/OneDrive-TheUniversityofChicago/School/Bayesian - Spring 2025/Final Project/hf_data'\"\n",
    "\n",
    "os.makedirs(BASE + \"/datasets\", exist_ok=True)\n",
    "os.makedirs(BASE + \"/models\", exist_ok=True)\n",
    "os.makedirs(BASE + \"/modules\", exist_ok=True)\n",
    "\n",
    "os.environ[\"HF_HOME\"]            = BASE         # root for everything\n",
    "os.environ[\"HF_DATASETS_CACHE\"]  = BASE + \"/datasets\"\n",
    "os.environ[\"TRANSFORMERS_CACHE\"] = BASE + \"/models\"\n",
    "os.environ[\"HF_MODULES_CACHE\"]   = BASE + \"/modules\""
   ],
   "id": "5961d000f4ad5aca",
   "outputs": [
    {
     "name": "stderr",
     "output_type": "stream",
     "text": [
      "/Users/arielazria/Library/CloudStorage/OneDrive-TheUniversityofChicago/School/Bayesian - Spring 2025/bayesian_env/lib/python3.12/site-packages/tqdm/auto.py:21: TqdmWarning: IProgress not found. Please update jupyter and ipywidgets. See https://ipywidgets.readthedocs.io/en/stable/user_install.html\n",
      "  from .autonotebook import tqdm as notebook_tqdm\n"
     ]
    }
   ],
   "execution_count": 1
  },
  {
   "metadata": {
    "ExecuteTime": {
     "end_time": "2025-05-13T00:54:16.616704Z",
     "start_time": "2025-05-13T00:54:15.554235Z"
    }
   },
   "cell_type": "code",
   "source": [
    "#!pip install huggingface_hub[hf_transfer]\n",
    "# Set HF_HUB_ENABLE_HF_TRANSFER=1 as an environment variable for faster downloads"
   ],
   "id": "b4c9c238ec09f491",
   "outputs": [
    {
     "name": "stdout",
     "output_type": "stream",
     "text": [
      "\u001B[33mWARNING: Ignoring invalid distribution ~umpy (/Users/arielazria/Library/CloudStorage/OneDrive-TheUniversityofChicago/School/Bayesian - Spring 2025/bayesian_env/lib/python3.12/site-packages)\u001B[0m\u001B[33m\r\n",
      "\u001B[0mRequirement already satisfied: huggingface_hub[hf_transfer] in /Users/arielazria/Library/CloudStorage/OneDrive-TheUniversityofChicago/School/Bayesian - Spring 2025/bayesian_env/lib/python3.12/site-packages (0.31.1)\r\n",
      "Requirement already satisfied: filelock in /Users/arielazria/Library/CloudStorage/OneDrive-TheUniversityofChicago/School/Bayesian - Spring 2025/bayesian_env/lib/python3.12/site-packages (from huggingface_hub[hf_transfer]) (3.18.0)\r\n",
      "Requirement already satisfied: fsspec>=2023.5.0 in /Users/arielazria/Library/CloudStorage/OneDrive-TheUniversityofChicago/School/Bayesian - Spring 2025/bayesian_env/lib/python3.12/site-packages (from huggingface_hub[hf_transfer]) (2024.12.0)\r\n",
      "Requirement already satisfied: packaging>=20.9 in /Users/arielazria/Library/CloudStorage/OneDrive-TheUniversityofChicago/School/Bayesian - Spring 2025/bayesian_env/lib/python3.12/site-packages (from huggingface_hub[hf_transfer]) (24.2)\r\n",
      "Requirement already satisfied: pyyaml>=5.1 in /Users/arielazria/Library/CloudStorage/OneDrive-TheUniversityofChicago/School/Bayesian - Spring 2025/bayesian_env/lib/python3.12/site-packages (from huggingface_hub[hf_transfer]) (6.0.2)\r\n",
      "Requirement already satisfied: requests in /Users/arielazria/Library/CloudStorage/OneDrive-TheUniversityofChicago/School/Bayesian - Spring 2025/bayesian_env/lib/python3.12/site-packages (from huggingface_hub[hf_transfer]) (2.32.3)\r\n",
      "Requirement already satisfied: tqdm>=4.42.1 in /Users/arielazria/Library/CloudStorage/OneDrive-TheUniversityofChicago/School/Bayesian - Spring 2025/bayesian_env/lib/python3.12/site-packages (from huggingface_hub[hf_transfer]) (4.67.1)\r\n",
      "Requirement already satisfied: typing-extensions>=3.7.4.3 in /Users/arielazria/Library/CloudStorage/OneDrive-TheUniversityofChicago/School/Bayesian - Spring 2025/bayesian_env/lib/python3.12/site-packages (from huggingface_hub[hf_transfer]) (4.13.1)\r\n",
      "Requirement already satisfied: hf-xet<2.0.0,>=1.1.0 in /Users/arielazria/Library/CloudStorage/OneDrive-TheUniversityofChicago/School/Bayesian - Spring 2025/bayesian_env/lib/python3.12/site-packages (from huggingface_hub[hf_transfer]) (1.1.0)\r\n",
      "Collecting hf-transfer>=0.1.4 (from huggingface_hub[hf_transfer])\r\n",
      "  Downloading hf_transfer-0.1.9-cp38-abi3-macosx_11_0_arm64.whl.metadata (1.7 kB)\r\n",
      "Requirement already satisfied: charset-normalizer<4,>=2 in /Users/arielazria/Library/CloudStorage/OneDrive-TheUniversityofChicago/School/Bayesian - Spring 2025/bayesian_env/lib/python3.12/site-packages (from requests->huggingface_hub[hf_transfer]) (3.4.1)\r\n",
      "Requirement already satisfied: idna<4,>=2.5 in /Users/arielazria/Library/CloudStorage/OneDrive-TheUniversityofChicago/School/Bayesian - Spring 2025/bayesian_env/lib/python3.12/site-packages (from requests->huggingface_hub[hf_transfer]) (3.10)\r\n",
      "Requirement already satisfied: urllib3<3,>=1.21.1 in /Users/arielazria/Library/CloudStorage/OneDrive-TheUniversityofChicago/School/Bayesian - Spring 2025/bayesian_env/lib/python3.12/site-packages (from requests->huggingface_hub[hf_transfer]) (2.4.0)\r\n",
      "Requirement already satisfied: certifi>=2017.4.17 in /Users/arielazria/Library/CloudStorage/OneDrive-TheUniversityofChicago/School/Bayesian - Spring 2025/bayesian_env/lib/python3.12/site-packages (from requests->huggingface_hub[hf_transfer]) (2025.1.31)\r\n",
      "Downloading hf_transfer-0.1.9-cp38-abi3-macosx_11_0_arm64.whl (1.3 MB)\r\n",
      "\u001B[2K   \u001B[90m━━━━━━━━━━━━━━━━━━━━━━━━━━━━━━━━━━━━━━━━\u001B[0m \u001B[32m1.3/1.3 MB\u001B[0m \u001B[31m22.0 MB/s\u001B[0m eta \u001B[36m0:00:00\u001B[0m\r\n",
      "\u001B[?25h\u001B[33mWARNING: Ignoring invalid distribution ~umpy (/Users/arielazria/Library/CloudStorage/OneDrive-TheUniversityofChicago/School/Bayesian - Spring 2025/bayesian_env/lib/python3.12/site-packages)\u001B[0m\u001B[33m\r\n",
      "\u001B[0mInstalling collected packages: hf-transfer\r\n",
      "\u001B[33mWARNING: Ignoring invalid distribution ~umpy (/Users/arielazria/Library/CloudStorage/OneDrive-TheUniversityofChicago/School/Bayesian - Spring 2025/bayesian_env/lib/python3.12/site-packages)\u001B[0m\u001B[33m\r\n",
      "\u001B[0mSuccessfully installed hf-transfer-0.1.9\r\n",
      "\r\n",
      "\u001B[1m[\u001B[0m\u001B[34;49mnotice\u001B[0m\u001B[1;39;49m]\u001B[0m\u001B[39;49m A new release of pip is available: \u001B[0m\u001B[31;49m25.0.1\u001B[0m\u001B[39;49m -> \u001B[0m\u001B[32;49m25.1.1\u001B[0m\r\n",
      "\u001B[1m[\u001B[0m\u001B[34;49mnotice\u001B[0m\u001B[1;39;49m]\u001B[0m\u001B[39;49m To update, run: \u001B[0m\u001B[32;49mpip install --upgrade pip\u001B[0m\r\n"
     ]
    }
   ],
   "execution_count": 2
  },
  {
   "metadata": {
    "ExecuteTime": {
     "end_time": "2025-05-13T00:55:01.076999Z",
     "start_time": "2025-05-13T00:55:01.075195Z"
    }
   },
   "cell_type": "code",
   "source": "os.environ[\"HF_HUB_ENABLE_HF_TRANSFER\"] = \"1\"",
   "id": "78dab132137fa82c",
   "outputs": [],
   "execution_count": 3
  },
  {
   "metadata": {
    "ExecuteTime": {
     "end_time": "2025-05-13T01:59:49.617306Z",
     "start_time": "2025-05-13T00:55:10.661104Z"
    }
   },
   "cell_type": "code",
   "source": [
    "snapshot_download(\n",
    "    repo_id=\"vikhyatk/lofi\",\n",
    "    repo_type=\"dataset\",\n",
    "    local_dir=\"/Users/arielazria/Library/CloudStorage/OneDrive-TheUniversityofChicago/School/Bayesian - Spring 2025/Final Project/hf_data/datasets/vikhyatk_lofi\",\n",
    "    resume_download=True,\n",
    ")"
   ],
   "id": "9aef08a1e1240a95",
   "outputs": [
    {
     "name": "stderr",
     "output_type": "stream",
     "text": [
      "/Users/arielazria/Library/CloudStorage/OneDrive-TheUniversityofChicago/School/Bayesian - Spring 2025/bayesian_env/lib/python3.12/site-packages/huggingface_hub/file_download.py:943: FutureWarning: `resume_download` is deprecated and will be removed in version 1.0.0. Downloads always resume when possible. If you want to force a new download, use `force_download=True`.\n",
      "  warnings.warn(\n",
      "Fetching 1032 files:  16%|█▋        | 169/1032 [16:40<1:25:13,  5.93s/it]Error while downloading from https://cdn-lfs-us-1.hf.co/repos/d8/ac/d8ac448d35744659d32d26c3b4614fce52cf0492010551d1217ba29fff3c36d3/72ff416afed3feca0a81c2407fb4fbdf5b77d30afc90523239316bedffea640f?response-content-disposition=inline%3B+filename*%3DUTF-8%27%27dynamic-prompts-2bd28898-8214-4c15-b94e-049a18156239.parquet%3B+filename%3D%22dynamic-prompts-2bd28898-8214-4c15-b94e-049a18156239.parquet%22%3B&Expires=1747102296&Policy=eyJTdGF0ZW1lbnQiOlt7IkNvbmRpdGlvbiI6eyJEYXRlTGVzc1RoYW4iOnsiQVdTOkVwb2NoVGltZSI6MTc0NzEwMjI5Nn19LCJSZXNvdXJjZSI6Imh0dHBzOi8vY2RuLWxmcy11cy0xLmhmLmNvL3JlcG9zL2Q4L2FjL2Q4YWM0NDhkMzU3NDQ2NTlkMzJkMjZjM2I0NjE0ZmNlNTJjZjA0OTIwMTA1NTFkMTIxN2JhMjlmZmYzYzM2ZDMvNzJmZjQxNmFmZWQzZmVjYTBhODFjMjQwN2ZiNGZiZGY1Yjc3ZDMwYWZjOTA1MjMyMzkzMTZiZWRmZmVhNjQwZj9yZXNwb25zZS1jb250ZW50LWRpc3Bvc2l0aW9uPSoifV19&Signature=bEG8aqsgeM70avEccUJU4FpjoE6sKAQd4Dtyg1Psk4vCaBaeqvVaLKcevCjNOmcd8-5T1%7EHfcvoF1o8qXz54spYInx7cP2sgTHOhmLDOsWXCWBXVbNLq5sEDcRyUNJQnMk4iugktRYmbxlxqbk9uVuxpav91PI3N7Y5skFt%7ExbBQXZyKOuMpXnG-LwqxvapMRDJsQVegOZALyCCk2t7ug5KVwp4Oydzs8F06bVkFobG4Rj9YuwBFGYvnEzgiHtDKuxAyaCGbW4uHxGN9Mo4ldff94wIW39BpeQJTID%7E4AWr9zUtw3d48SSuzqEHn%7EajnbRsGkO-pn6w0uvyZh89Yfw__&Key-Pair-Id=K24J24Z295AEI9: HTTPSConnectionPool(host='cdn-lfs-us-1.hf.co', port=443): Read timed out.\n",
      "Trying to resume download...\n",
      "Fetching 1032 files:  18%|█▊        | 181/1032 [18:13<2:21:49, 10.00s/it]Error while downloading from https://cdn-lfs-us-1.hf.co/repos/d8/ac/d8ac448d35744659d32d26c3b4614fce52cf0492010551d1217ba29fff3c36d3/2ea99989e1634ff4b23144b8c2c18f79941a15d904ef19635099ef06793e77e6?response-content-disposition=inline%3B+filename*%3DUTF-8%27%27dynamic-prompts-2fde30d4-57b2-41d6-a197-b64e0fbcaaac.parquet%3B+filename%3D%22dynamic-prompts-2fde30d4-57b2-41d6-a197-b64e0fbcaaac.parquet%22%3B&Expires=1747102423&Policy=eyJTdGF0ZW1lbnQiOlt7IkNvbmRpdGlvbiI6eyJEYXRlTGVzc1RoYW4iOnsiQVdTOkVwb2NoVGltZSI6MTc0NzEwMjQyM319LCJSZXNvdXJjZSI6Imh0dHBzOi8vY2RuLWxmcy11cy0xLmhmLmNvL3JlcG9zL2Q4L2FjL2Q4YWM0NDhkMzU3NDQ2NTlkMzJkMjZjM2I0NjE0ZmNlNTJjZjA0OTIwMTA1NTFkMTIxN2JhMjlmZmYzYzM2ZDMvMmVhOTk5ODllMTYzNGZmNGIyMzE0NGI4YzJjMThmNzk5NDFhMTVkOTA0ZWYxOTYzNTA5OWVmMDY3OTNlNzdlNj9yZXNwb25zZS1jb250ZW50LWRpc3Bvc2l0aW9uPSoifV19&Signature=Suk8a0gzMMGIt9QEMMjH5kviXToQ5FFR2zUFaZiEXNjJrfnAjMdEWIPgERq-WPD6xWjJL2AsDM1qG42DfcIdkSRmoVaO%7EJdjvw1tA07-nV-hcnjW5p2w9ohY%7EMTg6c7VfYIa8YHhW5pgWZZqHHwWjZ2lURBjGhmq9KVOLENISuq8gGWse%7EE5o4U8cOYogkT9HsFPknSXjQJ7hBkmjVeFHml%7EnAHKZ3CRsPXiksWwL9I9aJVyl9PEdpgwJARsOL0W2Gaig2sPxM8mq%7EUYaXF-3ZOOvQZO0RvaKxPp8DJzUH-gvkZvXGf6RVuG1ZCrQ90tuSecy7yNWaMT6iklZyuVFQ__&Key-Pair-Id=K24J24Z295AEI9: HTTPSConnectionPool(host='cdn-lfs-us-1.hf.co', port=443): Read timed out.\n",
      "Trying to resume download...\n",
      "Fetching 1032 files:  67%|██████▋   | 693/1032 [1:04:34<31:35,  5.59s/it]\n"
     ]
    },
    {
     "ename": "OSError",
     "evalue": "[Errno 28] No space left on device",
     "output_type": "error",
     "traceback": [
      "\u001B[31m---------------------------------------------------------------------------\u001B[39m",
      "\u001B[31mOSError\u001B[39m                                   Traceback (most recent call last)",
      "\u001B[36mCell\u001B[39m\u001B[36m \u001B[39m\u001B[32mIn[4]\u001B[39m\u001B[32m, line 1\u001B[39m\n\u001B[32m----> \u001B[39m\u001B[32m1\u001B[39m \u001B[43msnapshot_download\u001B[49m\u001B[43m(\u001B[49m\n\u001B[32m      2\u001B[39m \u001B[43m    \u001B[49m\u001B[43mrepo_id\u001B[49m\u001B[43m=\u001B[49m\u001B[33;43m\"\u001B[39;49m\u001B[33;43mvikhyatk/lofi\u001B[39;49m\u001B[33;43m\"\u001B[39;49m\u001B[43m,\u001B[49m\n\u001B[32m      3\u001B[39m \u001B[43m    \u001B[49m\u001B[43mrepo_type\u001B[49m\u001B[43m=\u001B[49m\u001B[33;43m\"\u001B[39;49m\u001B[33;43mdataset\u001B[39;49m\u001B[33;43m\"\u001B[39;49m\u001B[43m,\u001B[49m\n\u001B[32m      4\u001B[39m \u001B[43m    \u001B[49m\u001B[43mlocal_dir\u001B[49m\u001B[43m=\u001B[49m\u001B[33;43m\"\u001B[39;49m\u001B[33;43m/Users/arielazria/Library/CloudStorage/OneDrive-TheUniversityofChicago/School/Bayesian - Spring 2025/Final Project/hf_data/datasets/vikhyatk_lofi\u001B[39;49m\u001B[33;43m\"\u001B[39;49m\u001B[43m,\u001B[49m\n\u001B[32m      5\u001B[39m \u001B[43m    \u001B[49m\u001B[43mresume_download\u001B[49m\u001B[43m=\u001B[49m\u001B[38;5;28;43;01mTrue\u001B[39;49;00m\u001B[43m,\u001B[49m\n\u001B[32m      6\u001B[39m \u001B[43m)\u001B[49m\n",
      "\u001B[36mFile \u001B[39m\u001B[32m~/Library/CloudStorage/OneDrive-TheUniversityofChicago/School/Bayesian - Spring 2025/bayesian_env/lib/python3.12/site-packages/huggingface_hub/utils/_validators.py:114\u001B[39m, in \u001B[36m_inner_fn\u001B[39m\u001B[34m(*args, **kwargs)\u001B[39m\n",
      "\u001B[36mFile \u001B[39m\u001B[32m~/Library/CloudStorage/OneDrive-TheUniversityofChicago/School/Bayesian - Spring 2025/bayesian_env/lib/python3.12/site-packages/huggingface_hub/_snapshot_download.py:297\u001B[39m, in \u001B[36msnapshot_download\u001B[39m\u001B[34m(repo_id, repo_type, revision, cache_dir, local_dir, library_name, library_version, user_agent, proxies, etag_timeout, force_download, token, local_files_only, allow_patterns, ignore_patterns, max_workers, tqdm_class, headers, endpoint, local_dir_use_symlinks, resume_download)\u001B[39m\n",
      "\u001B[36mFile \u001B[39m\u001B[32m~/Library/CloudStorage/OneDrive-TheUniversityofChicago/School/Bayesian - Spring 2025/bayesian_env/lib/python3.12/site-packages/tqdm/contrib/concurrent.py:69\u001B[39m, in \u001B[36mthread_map\u001B[39m\u001B[34m(fn, *iterables, **tqdm_kwargs)\u001B[39m\n\u001B[32m     55\u001B[39m \u001B[38;5;250m\u001B[39m\u001B[33;03m\"\"\"\u001B[39;00m\n\u001B[32m     56\u001B[39m \u001B[33;03mEquivalent of `list(map(fn, *iterables))`\u001B[39;00m\n\u001B[32m     57\u001B[39m \u001B[33;03mdriven by `concurrent.futures.ThreadPoolExecutor`.\u001B[39;00m\n\u001B[32m   (...)\u001B[39m\u001B[32m     66\u001B[39m \u001B[33;03m    [default: max(32, cpu_count() + 4)].\u001B[39;00m\n\u001B[32m     67\u001B[39m \u001B[33;03m\"\"\"\u001B[39;00m\n\u001B[32m     68\u001B[39m \u001B[38;5;28;01mfrom\u001B[39;00m\u001B[38;5;250m \u001B[39m\u001B[34;01mconcurrent\u001B[39;00m\u001B[34;01m.\u001B[39;00m\u001B[34;01mfutures\u001B[39;00m\u001B[38;5;250m \u001B[39m\u001B[38;5;28;01mimport\u001B[39;00m ThreadPoolExecutor\n\u001B[32m---> \u001B[39m\u001B[32m69\u001B[39m \u001B[38;5;28;01mreturn\u001B[39;00m \u001B[43m_executor_map\u001B[49m\u001B[43m(\u001B[49m\u001B[43mThreadPoolExecutor\u001B[49m\u001B[43m,\u001B[49m\u001B[43m \u001B[49m\u001B[43mfn\u001B[49m\u001B[43m,\u001B[49m\u001B[43m \u001B[49m\u001B[43m*\u001B[49m\u001B[43miterables\u001B[49m\u001B[43m,\u001B[49m\u001B[43m \u001B[49m\u001B[43m*\u001B[49m\u001B[43m*\u001B[49m\u001B[43mtqdm_kwargs\u001B[49m\u001B[43m)\u001B[49m\n",
      "\u001B[36mFile \u001B[39m\u001B[32m~/Library/CloudStorage/OneDrive-TheUniversityofChicago/School/Bayesian - Spring 2025/bayesian_env/lib/python3.12/site-packages/tqdm/contrib/concurrent.py:51\u001B[39m, in \u001B[36m_executor_map\u001B[39m\u001B[34m(PoolExecutor, fn, *iterables, **tqdm_kwargs)\u001B[39m\n\u001B[32m     47\u001B[39m \u001B[38;5;28;01mwith\u001B[39;00m ensure_lock(tqdm_class, lock_name=lock_name) \u001B[38;5;28;01mas\u001B[39;00m lk:\n\u001B[32m     48\u001B[39m     \u001B[38;5;66;03m# share lock in case workers are already using `tqdm`\u001B[39;00m\n\u001B[32m     49\u001B[39m     \u001B[38;5;28;01mwith\u001B[39;00m PoolExecutor(max_workers=max_workers, initializer=tqdm_class.set_lock,\n\u001B[32m     50\u001B[39m                       initargs=(lk,)) \u001B[38;5;28;01mas\u001B[39;00m ex:\n\u001B[32m---> \u001B[39m\u001B[32m51\u001B[39m         \u001B[38;5;28;01mreturn\u001B[39;00m \u001B[38;5;28;43mlist\u001B[39;49m\u001B[43m(\u001B[49m\u001B[43mtqdm_class\u001B[49m\u001B[43m(\u001B[49m\u001B[43mex\u001B[49m\u001B[43m.\u001B[49m\u001B[43mmap\u001B[49m\u001B[43m(\u001B[49m\u001B[43mfn\u001B[49m\u001B[43m,\u001B[49m\u001B[43m \u001B[49m\u001B[43m*\u001B[49m\u001B[43miterables\u001B[49m\u001B[43m,\u001B[49m\u001B[43m \u001B[49m\u001B[43mchunksize\u001B[49m\u001B[43m=\u001B[49m\u001B[43mchunksize\u001B[49m\u001B[43m)\u001B[49m\u001B[43m,\u001B[49m\u001B[43m \u001B[49m\u001B[43m*\u001B[49m\u001B[43m*\u001B[49m\u001B[43mkwargs\u001B[49m\u001B[43m)\u001B[49m\u001B[43m)\u001B[49m\n",
      "\u001B[36mFile \u001B[39m\u001B[32m~/Library/CloudStorage/OneDrive-TheUniversityofChicago/School/Bayesian - Spring 2025/bayesian_env/lib/python3.12/site-packages/tqdm/std.py:1181\u001B[39m, in \u001B[36m__iter__\u001B[39m\u001B[34m(self)\u001B[39m\n",
      "\u001B[36mFile \u001B[39m\u001B[32m/Library/Frameworks/Python.framework/Versions/3.12/lib/python3.12/concurrent/futures/_base.py:619\u001B[39m, in \u001B[36mExecutor.map.<locals>.result_iterator\u001B[39m\u001B[34m()\u001B[39m\n\u001B[32m    616\u001B[39m \u001B[38;5;28;01mwhile\u001B[39;00m fs:\n\u001B[32m    617\u001B[39m     \u001B[38;5;66;03m# Careful not to keep a reference to the popped future\u001B[39;00m\n\u001B[32m    618\u001B[39m     \u001B[38;5;28;01mif\u001B[39;00m timeout \u001B[38;5;129;01mis\u001B[39;00m \u001B[38;5;28;01mNone\u001B[39;00m:\n\u001B[32m--> \u001B[39m\u001B[32m619\u001B[39m         \u001B[38;5;28;01myield\u001B[39;00m \u001B[43m_result_or_cancel\u001B[49m\u001B[43m(\u001B[49m\u001B[43mfs\u001B[49m\u001B[43m.\u001B[49m\u001B[43mpop\u001B[49m\u001B[43m(\u001B[49m\u001B[43m)\u001B[49m\u001B[43m)\u001B[49m\n\u001B[32m    620\u001B[39m     \u001B[38;5;28;01melse\u001B[39;00m:\n\u001B[32m    621\u001B[39m         \u001B[38;5;28;01myield\u001B[39;00m _result_or_cancel(fs.pop(), end_time - time.monotonic())\n",
      "\u001B[36mFile \u001B[39m\u001B[32m/Library/Frameworks/Python.framework/Versions/3.12/lib/python3.12/concurrent/futures/_base.py:317\u001B[39m, in \u001B[36m_result_or_cancel\u001B[39m\u001B[34m(***failed resolving arguments***)\u001B[39m\n\u001B[32m    315\u001B[39m \u001B[38;5;28;01mtry\u001B[39;00m:\n\u001B[32m    316\u001B[39m     \u001B[38;5;28;01mtry\u001B[39;00m:\n\u001B[32m--> \u001B[39m\u001B[32m317\u001B[39m         \u001B[38;5;28;01mreturn\u001B[39;00m \u001B[43mfut\u001B[49m\u001B[43m.\u001B[49m\u001B[43mresult\u001B[49m\u001B[43m(\u001B[49m\u001B[43mtimeout\u001B[49m\u001B[43m)\u001B[49m\n\u001B[32m    318\u001B[39m     \u001B[38;5;28;01mfinally\u001B[39;00m:\n\u001B[32m    319\u001B[39m         fut.cancel()\n",
      "\u001B[36mFile \u001B[39m\u001B[32m/Library/Frameworks/Python.framework/Versions/3.12/lib/python3.12/concurrent/futures/_base.py:456\u001B[39m, in \u001B[36mFuture.result\u001B[39m\u001B[34m(self, timeout)\u001B[39m\n\u001B[32m    454\u001B[39m     \u001B[38;5;28;01mraise\u001B[39;00m CancelledError()\n\u001B[32m    455\u001B[39m \u001B[38;5;28;01melif\u001B[39;00m \u001B[38;5;28mself\u001B[39m._state == FINISHED:\n\u001B[32m--> \u001B[39m\u001B[32m456\u001B[39m     \u001B[38;5;28;01mreturn\u001B[39;00m \u001B[38;5;28;43mself\u001B[39;49m\u001B[43m.\u001B[49m\u001B[43m__get_result\u001B[49m\u001B[43m(\u001B[49m\u001B[43m)\u001B[49m\n\u001B[32m    457\u001B[39m \u001B[38;5;28;01melse\u001B[39;00m:\n\u001B[32m    458\u001B[39m     \u001B[38;5;28;01mraise\u001B[39;00m \u001B[38;5;167;01mTimeoutError\u001B[39;00m()\n",
      "\u001B[36mFile \u001B[39m\u001B[32m/Library/Frameworks/Python.framework/Versions/3.12/lib/python3.12/concurrent/futures/_base.py:401\u001B[39m, in \u001B[36mFuture.__get_result\u001B[39m\u001B[34m(self)\u001B[39m\n\u001B[32m    399\u001B[39m \u001B[38;5;28;01mif\u001B[39;00m \u001B[38;5;28mself\u001B[39m._exception:\n\u001B[32m    400\u001B[39m     \u001B[38;5;28;01mtry\u001B[39;00m:\n\u001B[32m--> \u001B[39m\u001B[32m401\u001B[39m         \u001B[38;5;28;01mraise\u001B[39;00m \u001B[38;5;28mself\u001B[39m._exception\n\u001B[32m    402\u001B[39m     \u001B[38;5;28;01mfinally\u001B[39;00m:\n\u001B[32m    403\u001B[39m         \u001B[38;5;66;03m# Break a reference cycle with the exception in self._exception\u001B[39;00m\n\u001B[32m    404\u001B[39m         \u001B[38;5;28mself\u001B[39m = \u001B[38;5;28;01mNone\u001B[39;00m\n",
      "\u001B[36mFile \u001B[39m\u001B[32m/Library/Frameworks/Python.framework/Versions/3.12/lib/python3.12/concurrent/futures/thread.py:58\u001B[39m, in \u001B[36m_WorkItem.run\u001B[39m\u001B[34m(self)\u001B[39m\n\u001B[32m     55\u001B[39m     \u001B[38;5;28;01mreturn\u001B[39;00m\n\u001B[32m     57\u001B[39m \u001B[38;5;28;01mtry\u001B[39;00m:\n\u001B[32m---> \u001B[39m\u001B[32m58\u001B[39m     result = \u001B[38;5;28;43mself\u001B[39;49m\u001B[43m.\u001B[49m\u001B[43mfn\u001B[49m\u001B[43m(\u001B[49m\u001B[43m*\u001B[49m\u001B[38;5;28;43mself\u001B[39;49m\u001B[43m.\u001B[49m\u001B[43margs\u001B[49m\u001B[43m,\u001B[49m\u001B[43m \u001B[49m\u001B[43m*\u001B[49m\u001B[43m*\u001B[49m\u001B[38;5;28;43mself\u001B[39;49m\u001B[43m.\u001B[49m\u001B[43mkwargs\u001B[49m\u001B[43m)\u001B[49m\n\u001B[32m     59\u001B[39m \u001B[38;5;28;01mexcept\u001B[39;00m \u001B[38;5;167;01mBaseException\u001B[39;00m \u001B[38;5;28;01mas\u001B[39;00m exc:\n\u001B[32m     60\u001B[39m     \u001B[38;5;28mself\u001B[39m.future.set_exception(exc)\n",
      "\u001B[36mFile \u001B[39m\u001B[32m~/Library/CloudStorage/OneDrive-TheUniversityofChicago/School/Bayesian - Spring 2025/bayesian_env/lib/python3.12/site-packages/huggingface_hub/_snapshot_download.py:271\u001B[39m, in \u001B[36m_inner_hf_hub_download\u001B[39m\u001B[34m(repo_file)\u001B[39m\n",
      "\u001B[36mFile \u001B[39m\u001B[32m~/Library/CloudStorage/OneDrive-TheUniversityofChicago/School/Bayesian - Spring 2025/bayesian_env/lib/python3.12/site-packages/huggingface_hub/utils/_validators.py:114\u001B[39m, in \u001B[36m_inner_fn\u001B[39m\u001B[34m(*args, **kwargs)\u001B[39m\n",
      "\u001B[36mFile \u001B[39m\u001B[32m~/Library/CloudStorage/OneDrive-TheUniversityofChicago/School/Bayesian - Spring 2025/bayesian_env/lib/python3.12/site-packages/huggingface_hub/file_download.py:988\u001B[39m, in \u001B[36mhf_hub_download\u001B[39m\u001B[34m(repo_id, filename, subfolder, repo_type, revision, library_name, library_version, cache_dir, local_dir, user_agent, force_download, proxies, etag_timeout, token, local_files_only, headers, endpoint, resume_download, force_filename, local_dir_use_symlinks)\u001B[39m\n\u001B[32m    979\u001B[39m     \u001B[38;5;28;01mif\u001B[39;00m local_dir_use_symlinks != \u001B[33m\"\u001B[39m\u001B[33mauto\u001B[39m\u001B[33m\"\u001B[39m:\n\u001B[32m    980\u001B[39m         warnings.warn(\n\u001B[32m    981\u001B[39m             \u001B[33m\"\u001B[39m\u001B[33m`local_dir_use_symlinks` parameter is deprecated and will be ignored. \u001B[39m\u001B[33m\"\u001B[39m\n\u001B[32m    982\u001B[39m             \u001B[33m\"\u001B[39m\u001B[33mThe process to download files to a local folder has been updated and do \u001B[39m\u001B[33m\"\u001B[39m\n\u001B[32m   (...)\u001B[39m\u001B[32m    985\u001B[39m             \u001B[33m\"\u001B[39m\u001B[33mFor more details, check out https://huggingface.co/docs/huggingface_hub/main/en/guides/download#download-files-to-local-folder.\u001B[39m\u001B[33m\"\u001B[39m\n\u001B[32m    986\u001B[39m         )\n\u001B[32m--> \u001B[39m\u001B[32m988\u001B[39m     \u001B[38;5;28;01mreturn\u001B[39;00m \u001B[43m_hf_hub_download_to_local_dir\u001B[49m\u001B[43m(\u001B[49m\n\u001B[32m    989\u001B[39m \u001B[43m        \u001B[49m\u001B[38;5;66;43;03m# Destination\u001B[39;49;00m\n\u001B[32m    990\u001B[39m \u001B[43m        \u001B[49m\u001B[43mlocal_dir\u001B[49m\u001B[43m=\u001B[49m\u001B[43mlocal_dir\u001B[49m\u001B[43m,\u001B[49m\n\u001B[32m    991\u001B[39m \u001B[43m        \u001B[49m\u001B[38;5;66;43;03m# File info\u001B[39;49;00m\n\u001B[32m    992\u001B[39m \u001B[43m        \u001B[49m\u001B[43mrepo_id\u001B[49m\u001B[43m=\u001B[49m\u001B[43mrepo_id\u001B[49m\u001B[43m,\u001B[49m\n\u001B[32m    993\u001B[39m \u001B[43m        \u001B[49m\u001B[43mrepo_type\u001B[49m\u001B[43m=\u001B[49m\u001B[43mrepo_type\u001B[49m\u001B[43m,\u001B[49m\n\u001B[32m    994\u001B[39m \u001B[43m        \u001B[49m\u001B[43mfilename\u001B[49m\u001B[43m=\u001B[49m\u001B[43mfilename\u001B[49m\u001B[43m,\u001B[49m\n\u001B[32m    995\u001B[39m \u001B[43m        \u001B[49m\u001B[43mrevision\u001B[49m\u001B[43m=\u001B[49m\u001B[43mrevision\u001B[49m\u001B[43m,\u001B[49m\n\u001B[32m    996\u001B[39m \u001B[43m        \u001B[49m\u001B[38;5;66;43;03m# HTTP info\u001B[39;49;00m\n\u001B[32m    997\u001B[39m \u001B[43m        \u001B[49m\u001B[43mendpoint\u001B[49m\u001B[43m=\u001B[49m\u001B[43mendpoint\u001B[49m\u001B[43m,\u001B[49m\n\u001B[32m    998\u001B[39m \u001B[43m        \u001B[49m\u001B[43metag_timeout\u001B[49m\u001B[43m=\u001B[49m\u001B[43metag_timeout\u001B[49m\u001B[43m,\u001B[49m\n\u001B[32m    999\u001B[39m \u001B[43m        \u001B[49m\u001B[43mheaders\u001B[49m\u001B[43m=\u001B[49m\u001B[43mhf_headers\u001B[49m\u001B[43m,\u001B[49m\n\u001B[32m   1000\u001B[39m \u001B[43m        \u001B[49m\u001B[43mproxies\u001B[49m\u001B[43m=\u001B[49m\u001B[43mproxies\u001B[49m\u001B[43m,\u001B[49m\n\u001B[32m   1001\u001B[39m \u001B[43m        \u001B[49m\u001B[43mtoken\u001B[49m\u001B[43m=\u001B[49m\u001B[43mtoken\u001B[49m\u001B[43m,\u001B[49m\n\u001B[32m   1002\u001B[39m \u001B[43m        \u001B[49m\u001B[38;5;66;43;03m# Additional options\u001B[39;49;00m\n\u001B[32m   1003\u001B[39m \u001B[43m        \u001B[49m\u001B[43mcache_dir\u001B[49m\u001B[43m=\u001B[49m\u001B[43mcache_dir\u001B[49m\u001B[43m,\u001B[49m\n\u001B[32m   1004\u001B[39m \u001B[43m        \u001B[49m\u001B[43mforce_download\u001B[49m\u001B[43m=\u001B[49m\u001B[43mforce_download\u001B[49m\u001B[43m,\u001B[49m\n\u001B[32m   1005\u001B[39m \u001B[43m        \u001B[49m\u001B[43mlocal_files_only\u001B[49m\u001B[43m=\u001B[49m\u001B[43mlocal_files_only\u001B[49m\u001B[43m,\u001B[49m\n\u001B[32m   1006\u001B[39m \u001B[43m    \u001B[49m\u001B[43m)\u001B[49m\n\u001B[32m   1007\u001B[39m \u001B[38;5;28;01melse\u001B[39;00m:\n\u001B[32m   1008\u001B[39m     \u001B[38;5;28;01mreturn\u001B[39;00m _hf_hub_download_to_cache_dir(\n\u001B[32m   1009\u001B[39m         \u001B[38;5;66;03m# Destination\u001B[39;00m\n\u001B[32m   1010\u001B[39m         cache_dir=cache_dir,\n\u001B[32m   (...)\u001B[39m\u001B[32m   1024\u001B[39m         force_download=force_download,\n\u001B[32m   1025\u001B[39m     )\n",
      "\u001B[36mFile \u001B[39m\u001B[32m~/Library/CloudStorage/OneDrive-TheUniversityofChicago/School/Bayesian - Spring 2025/bayesian_env/lib/python3.12/site-packages/huggingface_hub/file_download.py:1288\u001B[39m, in \u001B[36m_hf_hub_download_to_local_dir\u001B[39m\u001B[34m(local_dir, repo_id, repo_type, filename, revision, endpoint, etag_timeout, headers, proxies, token, cache_dir, force_download, local_files_only)\u001B[39m\n\u001B[32m   1286\u001B[39m \u001B[38;5;28;01mwith\u001B[39;00m WeakFileLock(paths.lock_path):\n\u001B[32m   1287\u001B[39m     paths.file_path.unlink(missing_ok=\u001B[38;5;28;01mTrue\u001B[39;00m)  \u001B[38;5;66;03m# delete outdated file first\u001B[39;00m\n\u001B[32m-> \u001B[39m\u001B[32m1288\u001B[39m     \u001B[43m_download_to_tmp_and_move\u001B[49m\u001B[43m(\u001B[49m\n\u001B[32m   1289\u001B[39m \u001B[43m        \u001B[49m\u001B[43mincomplete_path\u001B[49m\u001B[43m=\u001B[49m\u001B[43mpaths\u001B[49m\u001B[43m.\u001B[49m\u001B[43mincomplete_path\u001B[49m\u001B[43m(\u001B[49m\u001B[43metag\u001B[49m\u001B[43m)\u001B[49m\u001B[43m,\u001B[49m\n\u001B[32m   1290\u001B[39m \u001B[43m        \u001B[49m\u001B[43mdestination_path\u001B[49m\u001B[43m=\u001B[49m\u001B[43mpaths\u001B[49m\u001B[43m.\u001B[49m\u001B[43mfile_path\u001B[49m\u001B[43m,\u001B[49m\n\u001B[32m   1291\u001B[39m \u001B[43m        \u001B[49m\u001B[43murl_to_download\u001B[49m\u001B[43m=\u001B[49m\u001B[43murl_to_download\u001B[49m\u001B[43m,\u001B[49m\n\u001B[32m   1292\u001B[39m \u001B[43m        \u001B[49m\u001B[43mproxies\u001B[49m\u001B[43m=\u001B[49m\u001B[43mproxies\u001B[49m\u001B[43m,\u001B[49m\n\u001B[32m   1293\u001B[39m \u001B[43m        \u001B[49m\u001B[43mheaders\u001B[49m\u001B[43m=\u001B[49m\u001B[43mheaders\u001B[49m\u001B[43m,\u001B[49m\n\u001B[32m   1294\u001B[39m \u001B[43m        \u001B[49m\u001B[43mexpected_size\u001B[49m\u001B[43m=\u001B[49m\u001B[43mexpected_size\u001B[49m\u001B[43m,\u001B[49m\n\u001B[32m   1295\u001B[39m \u001B[43m        \u001B[49m\u001B[43mfilename\u001B[49m\u001B[43m=\u001B[49m\u001B[43mfilename\u001B[49m\u001B[43m,\u001B[49m\n\u001B[32m   1296\u001B[39m \u001B[43m        \u001B[49m\u001B[43mforce_download\u001B[49m\u001B[43m=\u001B[49m\u001B[43mforce_download\u001B[49m\u001B[43m,\u001B[49m\n\u001B[32m   1297\u001B[39m \u001B[43m        \u001B[49m\u001B[43metag\u001B[49m\u001B[43m=\u001B[49m\u001B[43metag\u001B[49m\u001B[43m,\u001B[49m\n\u001B[32m   1298\u001B[39m \u001B[43m        \u001B[49m\u001B[43mxet_file_data\u001B[49m\u001B[43m=\u001B[49m\u001B[43mxet_file_data\u001B[49m\u001B[43m,\u001B[49m\n\u001B[32m   1299\u001B[39m \u001B[43m    \u001B[49m\u001B[43m)\u001B[49m\n\u001B[32m   1301\u001B[39m write_download_metadata(local_dir=local_dir, filename=filename, commit_hash=commit_hash, etag=etag)\n\u001B[32m   1302\u001B[39m \u001B[38;5;28;01mreturn\u001B[39;00m \u001B[38;5;28mstr\u001B[39m(paths.file_path)\n",
      "\u001B[36mFile \u001B[39m\u001B[32m~/Library/CloudStorage/OneDrive-TheUniversityofChicago/School/Bayesian - Spring 2025/bayesian_env/lib/python3.12/site-packages/huggingface_hub/file_download.py:1723\u001B[39m, in \u001B[36m_download_to_tmp_and_move\u001B[39m\u001B[34m(incomplete_path, destination_path, url_to_download, proxies, headers, expected_size, filename, force_download, etag, xet_file_data)\u001B[39m\n\u001B[32m   1716\u001B[39m         \u001B[38;5;28;01mif\u001B[39;00m xet_file_data \u001B[38;5;129;01mis\u001B[39;00m \u001B[38;5;129;01mnot\u001B[39;00m \u001B[38;5;28;01mNone\u001B[39;00m:\n\u001B[32m   1717\u001B[39m             logger.warning(\n\u001B[32m   1718\u001B[39m                 \u001B[33m\"\u001B[39m\u001B[33mXet Storage is enabled for this repo, but the \u001B[39m\u001B[33m'\u001B[39m\u001B[33mhf_xet\u001B[39m\u001B[33m'\u001B[39m\u001B[33m package is not installed. \u001B[39m\u001B[33m\"\u001B[39m\n\u001B[32m   1719\u001B[39m                 \u001B[33m\"\u001B[39m\u001B[33mFalling back to regular HTTP download. \u001B[39m\u001B[33m\"\u001B[39m\n\u001B[32m   1720\u001B[39m                 \u001B[33m\"\u001B[39m\u001B[33mFor better performance, install the package with: `pip install huggingface_hub[hf_xet]` or `pip install hf_xet`\u001B[39m\u001B[33m\"\u001B[39m\n\u001B[32m   1721\u001B[39m             )\n\u001B[32m-> \u001B[39m\u001B[32m1723\u001B[39m         \u001B[43mhttp_get\u001B[49m\u001B[43m(\u001B[49m\n\u001B[32m   1724\u001B[39m \u001B[43m            \u001B[49m\u001B[43murl_to_download\u001B[49m\u001B[43m,\u001B[49m\n\u001B[32m   1725\u001B[39m \u001B[43m            \u001B[49m\u001B[43mf\u001B[49m\u001B[43m,\u001B[49m\n\u001B[32m   1726\u001B[39m \u001B[43m            \u001B[49m\u001B[43mproxies\u001B[49m\u001B[43m=\u001B[49m\u001B[43mproxies\u001B[49m\u001B[43m,\u001B[49m\n\u001B[32m   1727\u001B[39m \u001B[43m            \u001B[49m\u001B[43mresume_size\u001B[49m\u001B[43m=\u001B[49m\u001B[43mresume_size\u001B[49m\u001B[43m,\u001B[49m\n\u001B[32m   1728\u001B[39m \u001B[43m            \u001B[49m\u001B[43mheaders\u001B[49m\u001B[43m=\u001B[49m\u001B[43mheaders\u001B[49m\u001B[43m,\u001B[49m\n\u001B[32m   1729\u001B[39m \u001B[43m            \u001B[49m\u001B[43mexpected_size\u001B[49m\u001B[43m=\u001B[49m\u001B[43mexpected_size\u001B[49m\u001B[43m,\u001B[49m\n\u001B[32m   1730\u001B[39m \u001B[43m        \u001B[49m\u001B[43m)\u001B[49m\n\u001B[32m   1732\u001B[39m logger.info(\u001B[33mf\u001B[39m\u001B[33m\"\u001B[39m\u001B[33mDownload complete. Moving file to \u001B[39m\u001B[38;5;132;01m{\u001B[39;00mdestination_path\u001B[38;5;132;01m}\u001B[39;00m\u001B[33m\"\u001B[39m)\n\u001B[32m   1733\u001B[39m _chmod_and_move(incomplete_path, destination_path)\n",
      "\u001B[36mFile \u001B[39m\u001B[32m~/Library/CloudStorage/OneDrive-TheUniversityofChicago/School/Bayesian - Spring 2025/bayesian_env/lib/python3.12/site-packages/huggingface_hub/file_download.py:497\u001B[39m, in \u001B[36mhttp_get\u001B[39m\u001B[34m(url, temp_file, proxies, resume_size, headers, expected_size, displayed_filename, _nb_retries, _tqdm_bar)\u001B[39m\n\u001B[32m    495\u001B[39m \u001B[38;5;28;01mif\u001B[39;00m chunk:  \u001B[38;5;66;03m# filter out keep-alive new chunks\u001B[39;00m\n\u001B[32m    496\u001B[39m     progress.update(\u001B[38;5;28mlen\u001B[39m(chunk))\n\u001B[32m--> \u001B[39m\u001B[32m497\u001B[39m     \u001B[43mtemp_file\u001B[49m\u001B[43m.\u001B[49m\u001B[43mwrite\u001B[49m\u001B[43m(\u001B[49m\u001B[43mchunk\u001B[49m\u001B[43m)\u001B[49m\n\u001B[32m    498\u001B[39m     new_resume_size += \u001B[38;5;28mlen\u001B[39m(chunk)\n\u001B[32m    499\u001B[39m     \u001B[38;5;66;03m# Some data has been downloaded from the server so we reset the number of retries.\u001B[39;00m\n",
      "\u001B[31mOSError\u001B[39m: [Errno 28] No space left on device"
     ]
    }
   ],
   "execution_count": 4
  },
  {
   "metadata": {},
   "cell_type": "code",
   "outputs": [],
   "execution_count": null,
   "source": "",
   "id": "89820621b2542452"
  }
 ],
 "metadata": {
  "kernelspec": {
   "display_name": "Python (Bayesian Env)",
   "language": "python",
   "name": "bayesian_env"
  },
  "language_info": {
   "codemirror_mode": {
    "name": "ipython",
    "version": 3
   },
   "file_extension": ".py",
   "mimetype": "text/x-python",
   "name": "python",
   "nbconvert_exporter": "python",
   "pygments_lexer": "ipython3"
  }
 },
 "nbformat": 4,
 "nbformat_minor": 5
}
